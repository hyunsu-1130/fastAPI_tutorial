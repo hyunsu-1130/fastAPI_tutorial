# fastAPI - DB 연동 
# SQLAlchemy (동기/비동기)
# asyncpg : Python의 비동기 프로그래밍을 위한 PostgreSQL DB 라이브러리

## sqlalchemy ORM 다루기
