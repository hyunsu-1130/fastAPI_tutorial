{
 "cells": [
  {
   "cell_type": "code",
   "execution_count": null,
   "metadata": {},
   "outputs": [],
   "source": [
    "# sqlalchemy ORM 다루기\n",
    "# asyncpg는 Python의 비동기 프로그래밍을 위한 PostgreSQL 데이터베이스 라이브러리"
   ]
  },
  {
   "cell_type": "code",
   "execution_count": 3,
   "metadata": {},
   "outputs": [],
   "source": [
    "# 엔진설정 : DB와 연결 설정\n",
    "from sqlalchemy import create_engine\n",
    "engine = create_engine('sqlite:///example.db', echo=True)  # echo=True는 실행된 SQL을 출력합니다."
   ]
  },
  {
   "cell_type": "code",
   "execution_count": 25,
   "metadata": {},
   "outputs": [
    {
     "name": "stderr",
     "output_type": "stream",
     "text": [
      "C:\\Users\\195452\\AppData\\Local\\Temp\\ipykernel_30076\\1574990273.py:6: MovedIn20Warning: The ``declarative_base()`` function is now available as sqlalchemy.orm.declarative_base(). (deprecated since: 2.0) (Background on SQLAlchemy 2.0 at: https://sqlalche.me/e/b8d9)\n",
      "  Base = declarative_base()\n"
     ]
    }
   ],
   "source": [
    "# 모델 정의 : DB 테이블과 매핑될 클래스를 정의\n",
    "from sqlalchemy.ext.declarative import declarative_base\n",
    "from sqlalchemy import Column, Integer, String, ForeignKey\n",
    "from sqlalchemy.orm import relationship\n",
    "\n",
    "Base = declarative_base()\n",
    "\n",
    "class User(Base):\n",
    "    __tablename__ = 'users'  # 사용할 테이블 이름\n",
    "    id = Column(Integer, primary_key=True)\n",
    "    name = Column(String)\n",
    "    fullname = Column(String)\n",
    "\n",
    "# class Address(Base):\n",
    "#     __tablename__ = 'addresses'\n",
    "#     id = Column(Integer, primary_key=True)\n",
    "#     email_address = Column(String, nullable=False)\n",
    "#     user_id = Column(Integer, ForeignKey('users.id'))\n",
    "#     user = relationship(\"User\", back_populates=\"addresses\")"
   ]
  },
  {
   "cell_type": "code",
   "execution_count": 28,
   "metadata": {},
   "outputs": [
    {
     "name": "stdout",
     "output_type": "stream",
     "text": [
      "2024-05-16 14:42:42,089 INFO sqlalchemy.engine.Engine BEGIN (implicit)\n",
      "2024-05-16 14:42:42,093 INFO sqlalchemy.engine.Engine PRAGMA main.table_info(\"users\")\n",
      "2024-05-16 14:42:42,095 INFO sqlalchemy.engine.Engine [raw sql] ()\n",
      "2024-05-16 14:42:42,105 INFO sqlalchemy.engine.Engine PRAGMA main.table_info(\"addresses\")\n",
      "2024-05-16 14:42:42,108 INFO sqlalchemy.engine.Engine [raw sql] ()\n",
      "2024-05-16 14:42:42,116 INFO sqlalchemy.engine.Engine COMMIT\n"
     ]
    }
   ],
   "source": [
    "# 테이블 생성\n",
    "Base.metadata.create_all(engine)  # 데이터베이스에 테이블을 생성합니다."
   ]
  },
  {
   "cell_type": "code",
   "execution_count": 29,
   "metadata": {},
   "outputs": [],
   "source": [
    "# 세션관리 - DB와의 모든 상호 작용은 세션을 통해 처리\n",
    "from sqlalchemy.orm import sessionmaker\n",
    "\n",
    "Session = sessionmaker(bind=engine)\n",
    "session = Session()"
   ]
  },
  {
   "cell_type": "code",
   "execution_count": 30,
   "metadata": {},
   "outputs": [
    {
     "name": "stdout",
     "output_type": "stream",
     "text": [
      "2024-05-16 14:42:50,632 INFO sqlalchemy.engine.Engine BEGIN (implicit)\n",
      "2024-05-16 14:42:50,641 INFO sqlalchemy.engine.Engine INSERT INTO users (name, fullname) VALUES (?, ?)\n",
      "2024-05-16 14:42:50,644 INFO sqlalchemy.engine.Engine [generated in 0.00292s] ('John', 'John Doe')\n",
      "2024-05-16 14:42:50,664 INFO sqlalchemy.engine.Engine COMMIT\n"
     ]
    }
   ],
   "source": [
    "# 데이터 추가 by 세션\n",
    "new_user = User(name=\"John\", fullname=\"John Doe\")\n",
    "session.add(new_user)\n",
    "session.commit()  # 변경사항을 데이터베이스에 커밋합니다."
   ]
  },
  {
   "cell_type": "code",
   "execution_count": 10,
   "metadata": {},
   "outputs": [
    {
     "name": "stdout",
     "output_type": "stream",
     "text": [
      "2024-05-16 14:32:41,561 INFO sqlalchemy.engine.Engine INSERT INTO users (name, fullname) VALUES (?, ?)\n",
      "2024-05-16 14:32:41,564 INFO sqlalchemy.engine.Engine [cached since 147.5s ago] ('Hyunsu', 'Hyunsu Shin')\n",
      "2024-05-16 14:32:41,579 INFO sqlalchemy.engine.Engine COMMIT\n"
     ]
    }
   ],
   "source": [
    "new_user = User(name=\"Hyunsu\", fullname=\"Hyunsu Shin\")\n",
    "session.add(new_user)\n",
    "session.commit()  # 변경사항을 데이터베이스에 커밋합니다."
   ]
  },
  {
   "cell_type": "code",
   "execution_count": 8,
   "metadata": {},
   "outputs": [
    {
     "name": "stdout",
     "output_type": "stream",
     "text": [
      "2024-05-16 14:31:32,748 INFO sqlalchemy.engine.Engine BEGIN (implicit)\n",
      "2024-05-16 14:31:32,781 INFO sqlalchemy.engine.Engine SELECT users.id AS users_id, users.name AS users_name, users.fullname AS users_fullname \n",
      "FROM users \n",
      "WHERE users.name = ?\n",
      "2024-05-16 14:31:32,789 INFO sqlalchemy.engine.Engine [generated in 0.00783s] ('John',)\n",
      "John John Doe\n"
     ]
    }
   ],
   "source": [
    "# 데이터 조회 by 세션\n",
    "# 이름으로 필터링하여 사용자 조회\n",
    "filtered_users = session.query(User).filter(User.name == \"John\").all()\n",
    "for user in filtered_users:\n",
    "    print(user.name, user.fullname)"
   ]
  },
  {
   "cell_type": "code",
   "execution_count": 11,
   "metadata": {},
   "outputs": [
    {
     "name": "stdout",
     "output_type": "stream",
     "text": [
      "2024-05-16 14:32:46,043 INFO sqlalchemy.engine.Engine BEGIN (implicit)\n",
      "2024-05-16 14:32:46,045 INFO sqlalchemy.engine.Engine SELECT users.id AS users_id, users.name AS users_name, users.fullname AS users_fullname \n",
      "FROM users ORDER BY users.fullname\n",
      "2024-05-16 14:32:46,048 INFO sqlalchemy.engine.Engine [cached since 38.98s ago] ()\n",
      "Hyunsu Hyunsu Shin\n",
      "John John Doe\n"
     ]
    }
   ],
   "source": [
    "# 결과를 정렬하여 조회\n",
    "sorted_users = session.query(User).order_by(User.fullname).all()\n",
    "for user in sorted_users:\n",
    "    print(user.name, user.fullname)"
   ]
  },
  {
   "cell_type": "code",
   "execution_count": 12,
   "metadata": {},
   "outputs": [
    {
     "name": "stdout",
     "output_type": "stream",
     "text": [
      "2024-05-16 14:34:06,858 INFO sqlalchemy.engine.Engine UPDATE users SET name=? WHERE users.id = ?\n",
      "2024-05-16 14:34:06,861 INFO sqlalchemy.engine.Engine [generated in 0.00300s] ('Jonathan', 1)\n",
      "2024-05-16 14:34:06,871 INFO sqlalchemy.engine.Engine COMMIT\n"
     ]
    }
   ],
   "source": [
    "# 데이터 업데이트\n",
    "user.name = \"Jonathan\"\n",
    "session.commit()  # 업데이트한 내용을 커밋합니다."
   ]
  },
  {
   "cell_type": "code",
   "execution_count": 13,
   "metadata": {},
   "outputs": [
    {
     "name": "stdout",
     "output_type": "stream",
     "text": [
      "2024-05-16 14:34:56,264 INFO sqlalchemy.engine.Engine BEGIN (implicit)\n",
      "2024-05-16 14:34:56,275 INFO sqlalchemy.engine.Engine SELECT users.id AS users_id, users.name AS users_name, users.fullname AS users_fullname \n",
      "FROM users\n",
      "2024-05-16 14:34:56,278 INFO sqlalchemy.engine.Engine [generated in 0.00392s] ()\n",
      "Jonathan John Doe\n",
      "Hyunsu Hyunsu Shin\n"
     ]
    }
   ],
   "source": [
    "searched_users = session.query(User).all()\n",
    "for user in searched_users:\n",
    "    print(user.name, user.fullname)"
   ]
  },
  {
   "cell_type": "code",
   "execution_count": 16,
   "metadata": {},
   "outputs": [
    {
     "name": "stdout",
     "output_type": "stream",
     "text": [
      "2024-05-16 14:36:28,181 INFO sqlalchemy.engine.Engine DELETE FROM users WHERE users.id = ?\n",
      "2024-05-16 14:36:28,183 INFO sqlalchemy.engine.Engine [cached since 46.02s ago] (1,)\n",
      "2024-05-16 14:36:28,196 INFO sqlalchemy.engine.Engine COMMIT\n"
     ]
    }
   ],
   "source": [
    "# 데이터 삭제\n",
    "session.delete(user)\n",
    "session.commit()  # 삭제를 커밋합니다."
   ]
  },
  {
   "cell_type": "code",
   "execution_count": 17,
   "metadata": {},
   "outputs": [
    {
     "name": "stdout",
     "output_type": "stream",
     "text": [
      "2024-05-16 14:36:30,758 INFO sqlalchemy.engine.Engine BEGIN (implicit)\n",
      "2024-05-16 14:36:30,761 INFO sqlalchemy.engine.Engine SELECT users.id AS users_id, users.name AS users_name, users.fullname AS users_fullname \n",
      "FROM users\n",
      "2024-05-16 14:36:30,769 INFO sqlalchemy.engine.Engine [cached since 94.49s ago] ()\n"
     ]
    }
   ],
   "source": [
    "searched_users = session.query(User).all()\n",
    "for user in searched_users:\n",
    "    print(user.name, user.fullname)"
   ]
  },
  {
   "cell_type": "code",
   "execution_count": 26,
   "metadata": {},
   "outputs": [],
   "source": [
    "# 관계 매핑 : 테이블 간의 관계 설정\n",
    "class Address(Base):\n",
    "    __tablename__ = 'addresses'\n",
    "    id = Column(Integer, primary_key=True)\n",
    "    email_address = Column(String, nullable=False)\n",
    "    user_id = Column(Integer, ForeignKey('users.id'))\n",
    "    user = relationship(\"User\", back_populates=\"addresses\")"
   ]
  },
  {
   "cell_type": "code",
   "execution_count": 27,
   "metadata": {},
   "outputs": [],
   "source": [
    "User.addresses = relationship(\"Address\", order_by=Address.id, back_populates=\"user\")"
   ]
  },
  {
   "cell_type": "code",
   "execution_count": 31,
   "metadata": {},
   "outputs": [
    {
     "name": "stdout",
     "output_type": "stream",
     "text": [
      "2024-05-16 14:43:00,243 INFO sqlalchemy.engine.Engine BEGIN (implicit)\n",
      "2024-05-16 14:43:00,252 INFO sqlalchemy.engine.Engine SELECT users.id AS users_id, users.name AS users_name, users.fullname AS users_fullname \n",
      "FROM users \n",
      "WHERE users.id = ?\n",
      "2024-05-16 14:43:00,256 INFO sqlalchemy.engine.Engine [generated in 0.00443s] (2,)\n",
      "2024-05-16 14:43:00,271 INFO sqlalchemy.engine.Engine INSERT INTO addresses (email_address, user_id) VALUES (?, ?)\n",
      "2024-05-16 14:43:00,276 INFO sqlalchemy.engine.Engine [generated in 0.00467s] ('john@example.com', 2)\n",
      "2024-05-16 14:43:00,288 INFO sqlalchemy.engine.Engine COMMIT\n"
     ]
    }
   ],
   "source": [
    "# 사용자에게 주소 추가\n",
    "new_address = Address(email_address=\"john@example.com\", user_id=new_user.id)\n",
    "session.add(new_address)\n",
    "session.commit()"
   ]
  },
  {
   "cell_type": "code",
   "execution_count": 32,
   "metadata": {},
   "outputs": [
    {
     "name": "stdout",
     "output_type": "stream",
     "text": [
      "2024-05-16 14:43:04,691 INFO sqlalchemy.engine.Engine BEGIN (implicit)\n",
      "2024-05-16 14:43:04,695 INFO sqlalchemy.engine.Engine SELECT users.id AS users_id, users.name AS users_name, users.fullname AS users_fullname \n",
      "FROM users \n",
      "WHERE users.id = ?\n",
      "2024-05-16 14:43:04,704 INFO sqlalchemy.engine.Engine [cached since 4.452s ago] (2,)\n",
      "2024-05-16 14:43:04,715 INFO sqlalchemy.engine.Engine SELECT addresses.id AS addresses_id, addresses.email_address AS addresses_email_address, addresses.user_id AS addresses_user_id \n",
      "FROM addresses \n",
      "WHERE addresses.user_id = ?\n",
      "2024-05-16 14:43:04,719 INFO sqlalchemy.engine.Engine [generated in 0.00305s] (2,)\n",
      "john@example.com\n"
     ]
    }
   ],
   "source": [
    "# 사용자의 모든 주소 조회\n",
    "user_addresses = session.query(Address).filter_by(user_id=new_user.id).all()\n",
    "for address in user_addresses:\n",
    "    print(address.email_address)"
   ]
  },
  {
   "cell_type": "code",
   "execution_count": 33,
   "metadata": {},
   "outputs": [
    {
     "name": "stdout",
     "output_type": "stream",
     "text": [
      "2024-05-16 14:43:22,172 INFO sqlalchemy.engine.Engine BEGIN (implicit)\n",
      "2024-05-16 14:43:22,183 INFO sqlalchemy.engine.Engine SELECT users.id AS users_id, users.name AS users_name, users.fullname AS users_fullname \n",
      "FROM users\n",
      "2024-05-16 14:43:22,186 INFO sqlalchemy.engine.Engine [generated in 0.00303s] ()\n",
      "John John Doe\n",
      "John John Doe\n"
     ]
    }
   ],
   "source": [
    "# 전체 사용자 조회\n",
    "# SQLAlchemy 세션 설정\n",
    "from sqlalchemy.orm import sessionmaker\n",
    "Session = sessionmaker(bind=engine)\n",
    "session = Session()\n",
    "\n",
    "# 모든 사용자 조회\n",
    "users = session.query(User).all()\n",
    "for user in users:\n",
    "    print(user.name, user.fullname)"
   ]
  },
  {
   "cell_type": "markdown",
   "metadata": {},
   "source": [
    "연습문제 \n",
    "문제 1: 개발자 포트폴리오 프로젝트 관리\n",
    "  개발자 포트폴리오 웹사이트를 위한 DB에 프로젝트 정보를 추가하는 기능 구현. 각 프로젝트는 이름(`name`), 설명(`description`), 기술 스택(`technologies`), 시작 날짜(`start_date`), 완료 날짜(`end_date`)를 포함\n",
    "\n",
    "- 구현할 기능:\n",
    "  a. `Project` 모델 생성 및 초기화.\n",
    "  b. 사용자 입력을 받아 새 프로젝트 객체를 데이터베이스에 추가.\n",
    "  c. 프로젝트를 세션에 추가하고 커밋."
   ]
  },
  {
   "cell_type": "code",
   "execution_count": 61,
   "metadata": {},
   "outputs": [],
   "source": [
    "session.close()\n",
    "session = Session()"
   ]
  },
  {
   "cell_type": "code",
   "execution_count": 63,
   "metadata": {},
   "outputs": [
    {
     "name": "stderr",
     "output_type": "stream",
     "text": [
      "C:\\Users\\195452\\AppData\\Local\\Temp\\ipykernel_30076\\3202908129.py:4: MovedIn20Warning: The ``declarative_base()`` function is now available as sqlalchemy.orm.declarative_base(). (deprecated since: 2.0) (Background on SQLAlchemy 2.0 at: https://sqlalche.me/e/b8d9)\n",
      "  Base = declarative_base()\n"
     ]
    }
   ],
   "source": [
    "from sqlalchemy.ext.declarative import declarative_base\n",
    "from sqlalchemy import Column, Integer, String, Date\n",
    "\n",
    "Base = declarative_base()\n",
    "\n",
    "class Project(Base):\n",
    "    __tablename__ = 'projects'  # 사용할 테이블 이름\n",
    "    id = Column(Integer, primary_key=True)\n",
    "    name = Column(String)\n",
    "    description = Column(String)\n",
    "    technologies = Column(String)\n",
    "    #start_date = Column(Date)\n",
    "    #end_date = Column(Date)"
   ]
  },
  {
   "cell_type": "code",
   "execution_count": 64,
   "metadata": {},
   "outputs": [
    {
     "name": "stdout",
     "output_type": "stream",
     "text": [
      "2024-05-16 15:51:46,335 INFO sqlalchemy.engine.Engine BEGIN (implicit)\n",
      "2024-05-16 15:51:46,337 INFO sqlalchemy.engine.Engine PRAGMA main.table_info(\"projects\")\n",
      "2024-05-16 15:51:46,340 INFO sqlalchemy.engine.Engine [raw sql] ()\n",
      "2024-05-16 15:51:46,344 INFO sqlalchemy.engine.Engine COMMIT\n"
     ]
    }
   ],
   "source": [
    "Base.metadata.create_all(engine)  # 데이터베이스에 테이블을 생성합니다."
   ]
  },
  {
   "cell_type": "code",
   "execution_count": 65,
   "metadata": {},
   "outputs": [],
   "source": [
    "def add_pj(name, description, technologies):\n",
    "  new_pj = Project(name=name, description=description, technologies=technologies)\n",
    "  session.add(new_pj)\n",
    "  session.commit()"
   ]
  },
  {
   "cell_type": "code",
   "execution_count": 66,
   "metadata": {},
   "outputs": [
    {
     "name": "stdout",
     "output_type": "stream",
     "text": [
      "2024-05-16 15:51:54,671 INFO sqlalchemy.engine.Engine BEGIN (implicit)\n",
      "2024-05-16 15:51:54,676 INFO sqlalchemy.engine.Engine INSERT INTO projects (name, description, technologies) VALUES (?, ?, ?)\n",
      "2024-05-16 15:51:54,680 INFO sqlalchemy.engine.Engine [generated in 0.00455s] ('쇼핑몰 만들기', '옷', 'Django')\n",
      "2024-05-16 15:51:54,695 INFO sqlalchemy.engine.Engine COMMIT\n"
     ]
    }
   ],
   "source": [
    "add_pj('쇼핑몰 만들기', '옷', 'Django')"
   ]
  },
  {
   "cell_type": "markdown",
   "metadata": {},
   "source": [
    "문제 2: 개발자 포트폴리오 프로젝트 조회\n",
    " 개발자 포트폴리오 웹사이트에서 모든 프로젝트의 상세 정보를 조회하는 기능을 구현. 각 프로젝트의 모든 필드 정보를 출력.\n",
    "\n",
    "- 구현할 기능:\n",
    "a. 세션을 사용하여 모든 프로젝트 조회.\n",
    "b. 각 프로젝트의 상세 정보를 출력."
   ]
  },
  {
   "cell_type": "code",
   "execution_count": 67,
   "metadata": {},
   "outputs": [],
   "source": [
    "def list_pj():\n",
    "  projects = session.query(Project).all()\n",
    "  for pj in projects:\n",
    "    print(f\"{pj.name}, {pj.description}, {pj.technologies}\")"
   ]
  },
  {
   "cell_type": "code",
   "execution_count": 72,
   "metadata": {},
   "outputs": [
    {
     "name": "stdout",
     "output_type": "stream",
     "text": [
      "2024-05-16 15:54:10,047 INFO sqlalchemy.engine.Engine BEGIN (implicit)\n",
      "2024-05-16 15:54:10,048 INFO sqlalchemy.engine.Engine SELECT projects.id AS projects_id, projects.name AS projects_name, projects.description AS projects_description, projects.technologies AS projects_technologies \n",
      "FROM projects\n",
      "2024-05-16 15:54:10,051 INFO sqlalchemy.engine.Engine [cached since 109.6s ago] ()\n",
      "쇼핑몰 만들기, 옷 + 신발, 새로운 기술\n"
     ]
    }
   ],
   "source": [
    "list_pj()"
   ]
  },
  {
   "cell_type": "markdown",
   "metadata": {},
   "source": [
    "### 문제 3: 개발자 포트폴리오 프로젝트 업데이트\n",
    " 기존 프로젝트 정보를 업데이트하는 기능을 구현. 프로젝트 ID를 입력받아 해당 프로젝트의 기술 스택과 설명을 업데이트\n",
    "\n",
    "**구현할 기능**:\n",
    "1. 프로젝트 ID로 프로젝트 조회.\n",
    "2. 기술 스택과 설명을 사용자 입력으로 업데이트.\n",
    "3. 데이터베이스에 변경 사항 커밋."
   ]
  },
  {
   "cell_type": "code",
   "execution_count": 69,
   "metadata": {},
   "outputs": [],
   "source": [
    "def update_pj(project_id, technologies, description):\n",
    "  pj = session.query(Project).filter(Project.id == project_id).first()\n",
    "  if pj:\n",
    "      pj.technologies = technologies\n",
    "      pj.description = description\n",
    "      session.commit()\n",
    "  else:\n",
    "    print(\"프로젝트가 없습니다.\")"
   ]
  },
  {
   "cell_type": "code",
   "execution_count": 71,
   "metadata": {},
   "outputs": [
    {
     "name": "stdout",
     "output_type": "stream",
     "text": [
      "2024-05-16 15:54:03,271 INFO sqlalchemy.engine.Engine SELECT projects.id AS projects_id, projects.name AS projects_name, projects.description AS projects_description, projects.technologies AS projects_technologies \n",
      "FROM projects \n",
      "WHERE projects.id = ?\n",
      " LIMIT ? OFFSET ?\n",
      "2024-05-16 15:54:03,273 INFO sqlalchemy.engine.Engine [cached since 6.164s ago] (1, 1, 0)\n",
      "2024-05-16 15:54:03,279 INFO sqlalchemy.engine.Engine UPDATE projects SET description=?, technologies=? WHERE projects.id = ?\n",
      "2024-05-16 15:54:03,280 INFO sqlalchemy.engine.Engine [generated in 0.00134s] ('옷 + 신발', '새로운 기술', 1)\n",
      "2024-05-16 15:54:03,289 INFO sqlalchemy.engine.Engine COMMIT\n"
     ]
    }
   ],
   "source": [
    "update_pj(1, \"새로운 기술\", \"옷 + 신발\")"
   ]
  }
 ],
 "metadata": {
  "kernelspec": {
   "display_name": "fast",
   "language": "python",
   "name": "python3"
  },
  "language_info": {
   "codemirror_mode": {
    "name": "ipython",
    "version": 3
   },
   "file_extension": ".py",
   "mimetype": "text/x-python",
   "name": "python",
   "nbconvert_exporter": "python",
   "pygments_lexer": "ipython3",
   "version": "3.10.14"
  }
 },
 "nbformat": 4,
 "nbformat_minor": 2
}
